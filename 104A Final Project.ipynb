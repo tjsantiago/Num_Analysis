{
 "cells": [
  {
   "cell_type": "code",
   "execution_count": 54,
   "metadata": {},
   "outputs": [],
   "source": [
    "import numpy as np\n",
    "import matplotlib.pyplot as plt"
   ]
  },
  {
   "cell_type": "markdown",
   "metadata": {},
   "source": [
    "### Root-Finding"
   ]
  },
  {
   "cell_type": "code",
   "execution_count": 1,
   "metadata": {},
   "outputs": [
    {
     "name": "stdout",
     "output_type": "stream",
     "text": [
      "What monthly payment can you afford? $1550\n"
     ]
    }
   ],
   "source": [
    "#Monthly payment input\n",
    "def Monthly_Payment():\n",
    "    h = True\n",
    "    while h == True:\n",
    "        try:\n",
    "            mp = float(input(\"What monthly payment can you afford? $\"))\n",
    "            if mp > 0:\n",
    "                h = False\n",
    "                return mp\n",
    "            else:\n",
    "                print(\"The input must be positive.\")\n",
    "        except ValueError:\n",
    "            print(\"Please do no include punctuation or letters in your input.\")\n",
    "\n",
    "globmp = Monthly_Payment()\n",
    "\n",
    "#Interest rate optimization function\n",
    "def interest(x):\n",
    "    global globmp\n",
    "    return ((globmp)/x)*(1-((1+x)**-360)) - 300000\n",
    "\n",
    "#derivative of interest rate function\n",
    "def d_interest(x):\n",
    "    '''First derivative of interest(x)'''\n",
    "    global globmp\n",
    "    return -globmp*(x**(-2)) - ((-360*(globmp))*(x**(-1))*((1 + x)**(-361)) - globmp*(x**(-2))*((1+x)**(-360)))"
   ]
  },
  {
   "cell_type": "code",
   "execution_count": 2,
   "metadata": {
    "scrolled": false
   },
   "outputs": [
    {
     "name": "stdout",
     "output_type": "stream",
     "text": [
      "('The maximum interest rate you can afford is 4.67%', 'The method was successful after 4 iterations.')\n"
     ]
    }
   ],
   "source": [
    "#Modify Newton to use interest/d_interest correctly\n",
    "\n",
    "def interest_Newton(f, f1, p_0, TOL, NMAX):\n",
    "    '''calculates maximum interest rate given monthly payment input from interest/d_interest\n",
    "    using the ordinary annuity equation'''\n",
    "    \n",
    "    i = 1\n",
    "    while i <= NMAX:\n",
    "        p = p_0 - (f(p_0)/f1(p_0))\n",
    "        if abs(p - p_0) < TOL:\n",
    "            return \"The maximum interest rate you can afford is %.2f%%\" %((12*p)*100), \"The method was successful after %s iterations.\" %i\n",
    "        i += 1\n",
    "        p_0 = p\n",
    "    return \"The method failed after %s iterations\" %NMAX\n",
    "\n",
    "print(interest_Newton(interest, d_interest, 0.0025, 1e-6, 100))"
   ]
  },
  {
   "cell_type": "code",
   "execution_count": 65,
   "metadata": {},
   "outputs": [
    {
     "name": "stdout",
     "output_type": "stream",
     "text": [
      "[0.003218595953531625, 0.0017413230707296924, 0.00035868973581285914, 1.202562987072213e-05, 1.2822409493559728e-08]\n"
     ]
    },
    {
     "data": {
      "image/png": "[encoded data removed]",
      "text/plain": [
       "<matplotlib.figure.Figure at 0x24cde6e6438>"
      ]
     },
     "metadata": {},
     "output_type": "display_data"
    }
   ],
   "source": [
    "def logplot_Newton(f, f1, p_0, TOL, NMAX):\n",
    "    '''Creates a plot showing convegence of Newtons method'''\n",
    "    \n",
    "    y_vals = []\n",
    "    x_vals = []\n",
    "    \n",
    "    i = 1\n",
    "    while i <= NMAX:\n",
    "        p = p_0 - (f(p_0)/f1(p_0))\n",
    "        y_vals.append(abs(p - p_0))\n",
    "        x_vals.append(i)\n",
    "\n",
    "        if abs(p -p_0) < TOL:\n",
    "            print(y_vals)\n",
    "            plt.plot(x_vals, y_vals)\n",
    "            plt.yscale('log')\n",
    "            plt.xticks(np.arange(1, max(x_vals) + 1, 1))\n",
    "            plt.xlabel(\"Iteration\")\n",
    "            plt.ylabel(r\"$\\log(p_{n} - p_{n-1})$\")\n",
    "            plt.title(\"Semi-log plot of Newton\\'s Method\")\n",
    "            plt.show()\n",
    "            return\n",
    "        \n",
    "        i += 1\n",
    "        p_0 = p           \n",
    "    return \"The method was unsuccesful.\"\n",
    "\n",
    "logplot_Newton(interest, d_interest, 0.0025, 1e-6, 100)"
   ]
  },
  {
   "cell_type": "raw",
   "metadata": {},
   "source": [
    "Initial values"
   ]
  },
  {
   "cell_type": "code",
   "execution_count": 4,
   "metadata": {},
   "outputs": [],
   "source": [
    "payments = [1000, 1500, 2000, 2500]\n",
    "rates = [1.25, 4.39, 7.02, 9.40]"
   ]
  },
  {
   "cell_type": "raw",
   "metadata": {},
   "source": [
    "Testing values (interpolation)"
   ]
  },
  {
   "cell_type": "code",
   "execution_count": 66,
   "metadata": {},
   "outputs": [
    {
     "name": "stdout",
     "output_type": "stream",
     "text": [
      "('The maximum interest rate you can afford is 9.40%', 'The method was successful after 5 iterations.')\n"
     ]
    }
   ],
   "source": [
    "test_vals = [1100, 1250, 1400, 1600, 1750, 1900, 2100, 2250, 2400]\n",
    "real_vals = [1.94, 2.91, 3.81, 4.94, 5.75, 6.52, 7.51, 8.23, 8.94]"
   ]
  },
  {
   "cell_type": "markdown",
   "metadata": {},
   "source": [
    "### Interpolation Methods"
   ]
  },
  {
   "cell_type": "code",
   "execution_count": 6,
   "metadata": {},
   "outputs": [],
   "source": [
    "#Neville's Method function\n",
    "#vec_x is a vector of x values, f_x is the value of the function at each x in vec_x\n",
    "\n",
    "def interest_Neville(x, vec_x, f_x):\n",
    "    '''Computes interpolation for a point x using Neville's Method given a vector of x values vec_x\n",
    "    and a vector, f_x, of corresponding y values for each value in vec_x'''\n",
    "    \n",
    "    n = np.size(vec_x) - 1\n",
    "    Q_table = np.zeros((n+1, n+1)) #create an n x n matrix of zeros\n",
    "    \n",
    "    for i in np.arange(0, n+1): #set the vector f_x as the first column in Q_table\n",
    "        Q_table[i][0] = f_x[i]\n",
    "        \n",
    "    for j in np.arange(1, n+1):\n",
    "        for i in np.arange(j, n+1): #set the value for Q_table[i][j]\n",
    "            Q_table[i][j] = (((x - vec_x[i-j])*Q_table[i][j-1]) - ((x - vec_x[i])*Q_table[i-1][j-1]))/(vec_x[i] - vec_x[i - j])\n",
    "            \n",
    "    #output the approximation and the Q_table\n",
    "    return Q_table[n][n]"
   ]
  },
  {
   "cell_type": "code",
   "execution_count": 7,
   "metadata": {
    "scrolled": true
   },
   "outputs": [],
   "source": [
    "#change cubic spline for interest rate\n",
    "\n",
    "#natural cubic splines\n",
    "\n",
    "def interest_N_cubic_spline(y, x, a):\n",
    "    '''returns the interpolated value, y,  of the natural cubic spline\n",
    "    interpolant for a function'''\n",
    "\n",
    "    n = np.size(x) - 1\n",
    "    \n",
    "    #set size of different variables\n",
    "    h = np.zeros((n, 1))\n",
    "    alpha = np.zeros((n, 1))\n",
    "    l = np.zeros((n+1, 1))\n",
    "    mu = np.zeros((n+1, 1))\n",
    "    z = np.zeros((n+1, 1))\n",
    "    c = np.zeros((n+1, 1))\n",
    "    b = np.zeros((n+1, 1))\n",
    "    d = np.zeros((n+1, 1))\n",
    "    \n",
    "    #calculate coefficients\n",
    "    for i in np.arange(n):\n",
    "        h[i] = x[i+1] - x[i]\n",
    "    \n",
    "    for i in np.arange(1, n):\n",
    "        alpha[i] = (3/h[i])*(a[i+1] - a[i]) - (3/h[i-1])*(a[i] - a[i-1])\n",
    "    \n",
    "    l[0] = 1\n",
    "    mu[0] = 0\n",
    "    z[0] = 0\n",
    "    \n",
    "    for i in np.arange(1, n):\n",
    "        l[i] = 2*(x[i+1] - x[i-1]) - h[i-1]*mu[i-1]\n",
    "        mu[i] = h[i]/l[i]\n",
    "        z[i] = (alpha[i] - h[i-1]*z[i-1])/l[i]\n",
    "        \n",
    "    l[n] = 1\n",
    "    z[n] = 0\n",
    "    c[n] = 0\n",
    "    \n",
    "    for j in np.arange(n-1, -1, -1):\n",
    "        c[j] = z[j] - mu[j]*c[j+1]\n",
    "        b[j] = ((a[j+1] - a[j])/h[j]) - ((h[j]*(c[j+1] + 2*c[j]))/3)\n",
    "        d[j] = (c[j+1] - c[j])/(3*h[j])\n",
    "     \n",
    "    #get coefficients sorted for output\n",
    "    a_coeffs = []\n",
    "    b_coeffs = []\n",
    "    c_coeffs = []\n",
    "    d_coeffs = []\n",
    "    \n",
    "    for j in np.arange(0, n):\n",
    "        a_coeffs.append(a[j])\n",
    "        b_coeffs.append(b[j])\n",
    "        c_coeffs.append(c[j])\n",
    "        d_coeffs.append(d[j])\n",
    "    \n",
    "    #determine which coefficients to use and what to subtract\n",
    "    interp_coeffs = []\n",
    "    sub = 0\n",
    "    for i in np.arange(n):\n",
    "        if y > x[i] and y < x[i+1]:\n",
    "            interp_coeffs.append(a_coeffs[i])\n",
    "            interp_coeffs.append(b_coeffs[i])\n",
    "            interp_coeffs.append(c_coeffs[i])\n",
    "            interp_coeffs.append(d_coeffs[i])\n",
    "            sub += x[i]\n",
    "            \n",
    "    #use interp_coefficients to calculate a final value\n",
    "    interp_val = interp_coeffs[0]\n",
    "    for i in np.arange(1, np.size(interp_coeffs)):\n",
    "        interp_val += interp_coeffs[i]*((y-sub)**i)\n",
    "    \n",
    "    \n",
    "    return np.round(interp_val, decimals=2)"
   ]
  },
  {
   "cell_type": "markdown",
   "metadata": {},
   "source": [
    "### Error/Results"
   ]
  },
  {
   "cell_type": "code",
   "execution_count": 8,
   "metadata": {},
   "outputs": [],
   "source": [
    "def error(real, interp):\n",
    "    '''calculates the average absolute and relative error for interpolated values'''\n",
    "    \n",
    "    n = np.size(real) - 1\n",
    "    e_abs = []\n",
    "    e_rel = []\n",
    "    \n",
    "    for i in np.arange(n):\n",
    "        x = abs(real[i] - interp[i])\n",
    "        e_abs.append(x)\n",
    "        e_rel.append(x/abs(real[i]))\n",
    "    \n",
    "    return \"The average absolute error is: %.4f\" %np.mean(e_abs), \"The average relative error is: %.6f\" %np.mean(e_rel)"
   ]
  },
  {
   "cell_type": "code",
   "execution_count": 9,
   "metadata": {
    "scrolled": true
   },
   "outputs": [
    {
     "name": "stdout",
     "output_type": "stream",
     "text": [
      "The interpolated interest rate for a monthly payment of $1100.00 is: 1.90%\n",
      "The interpolated interest rate for a monthly payment of $1250.00 is: 2.86%\n",
      "The interpolated interest rate for a monthly payment of $1400.00 is: 3.80%\n",
      "The interpolated interest rate for a monthly payment of $1600.00 is: 4.96%\n",
      "The interpolated interest rate for a monthly payment of $1750.00 is: 5.76%\n",
      "The interpolated interest rate for a monthly payment of $1900.00 is: 6.53%\n",
      "The interpolated interest rate for a monthly payment of $2100.00 is: 7.51%\n",
      "The interpolated interest rate for a monthly payment of $2250.00 is: 8.22%\n",
      "The interpolated interest rate for a monthly payment of $2400.00 is: 8.93%\n"
     ]
    }
   ],
   "source": [
    "#compute interpolation values for natural cubic spline\n",
    "test_vals = [1100, 1250, 1400, 1600, 1750, 1900, 2100, 2250, 2400]\n",
    "test_interests_cube = []\n",
    "\n",
    "for i in test_vals:\n",
    "    x = interest_N_cubic_spline(i, payments, rates)\n",
    "    test_interests_cube.append(x)\n",
    "    print(\"The interpolated interest rate for a monthly payment of $%.2f is: %.2f%%\" %(i, x))   "
   ]
  },
  {
   "cell_type": "code",
   "execution_count": 20,
   "metadata": {
    "scrolled": true
   },
   "outputs": [
    {
     "data": {
      "text/plain": [
       "Text(0.5,1,'Cubic Spline')"
      ]
     },
     "execution_count": 20,
     "metadata": {},
     "output_type": "execute_result"
    },
    {
     "data": {
      "image/png": "[encoded data removed]",
      "text/plain": [
       "<matplotlib.figure.Figure at 0x21c32b26630>"
      ]
     },
     "metadata": {},
     "output_type": "display_data"
    }
   ],
   "source": [
    "plt.plot(test_vals, test_interests_cube, 'bo', payments, rates, 'r--')\n",
    "plt.xlabel('Monthly Payment ($)')\n",
    "plt.ylabel('Maximal Interest Rate (%)')\n",
    "plt.title('Cubic Spline')"
   ]
  },
  {
   "cell_type": "code",
   "execution_count": 11,
   "metadata": {},
   "outputs": [
    {
     "name": "stdout",
     "output_type": "stream",
     "text": [
      "('The average absolute error is: 0.0188', 'The average relative error is: 0.006120')\n"
     ]
    }
   ],
   "source": [
    "#real values obtained from using test_vals in interest/d_interest/interest_Newton\n",
    "real_interests = [1.94, 2.91, 3.81, 4.94, 5.75, 6.52, 7.51, 8.23, 8.94]\n",
    "\n",
    "#compute errors for natural cubic spline\n",
    "print(error(real_interests, test_interests_cube))"
   ]
  },
  {
   "cell_type": "code",
   "execution_count": 12,
   "metadata": {},
   "outputs": [
    {
     "name": "stdout",
     "output_type": "stream",
     "text": [
      "The interpolated interest rate for a monthly payment of $1100.00 is: 1.93%\n",
      "The interpolated interest rate for a monthly payment of $1250.00 is: 2.90%\n",
      "The interpolated interest rate for a monthly payment of $1400.00 is: 3.81%\n",
      "The interpolated interest rate for a monthly payment of $1600.00 is: 4.95%\n",
      "The interpolated interest rate for a monthly payment of $1750.00 is: 5.75%\n",
      "The interpolated interest rate for a monthly payment of $1900.00 is: 6.52%\n",
      "The interpolated interest rate for a monthly payment of $2100.00 is: 7.51%\n",
      "The interpolated interest rate for a monthly payment of $2250.00 is: 8.23%\n",
      "The interpolated interest rate for a monthly payment of $2400.00 is: 8.93%\n"
     ]
    }
   ],
   "source": [
    "#compute interpolation values for Neville\n",
    "test_vals = [1100, 1250, 1400, 1600, 1750, 1900, 2100, 2250, 2400]\n",
    "test_interests_Nev = []\n",
    "\n",
    "for i in test_vals:\n",
    "    x = interest_Neville(i, payments, rates)\n",
    "    test_interests_Nev.append(x)\n",
    "    print(\"The interpolated interest rate for a monthly payment of $%.2f is: %.2f%%\" %(i, x))"
   ]
  },
  {
   "cell_type": "code",
   "execution_count": 19,
   "metadata": {},
   "outputs": [
    {
     "data": {
      "text/plain": [
       "Text(0.5,1,\"Neville's Method\")"
      ]
     },
     "execution_count": 19,
     "metadata": {},
     "output_type": "execute_result"
    },
    {
     "data": {
      "image/png": "[encoded data removed]",
      "text/plain": [
       "<matplotlib.figure.Figure at 0x21c32ac1eb8>"
      ]
     },
     "metadata": {},
     "output_type": "display_data"
    }
   ],
   "source": [
    "plt.plot(test_vals, test_interests_Nev, 'bo', payments, rates, 'r--')\n",
    "plt.xlabel('Monthly Payment ($)')\n",
    "plt.ylabel('Maximal Interest Rate (%)')\n",
    "plt.title('Neville\\'s Method')"
   ]
  },
  {
   "cell_type": "code",
   "execution_count": 25,
   "metadata": {},
   "outputs": [
    {
     "name": "stdout",
     "output_type": "stream",
     "text": [
      "('The average absolute error is: 0.0051', 'The average relative error is: 0.001456')\n"
     ]
    }
   ],
   "source": [
    "#compute error for Neville\n",
    "print(error(real_interests, test_interests_Nev))"
   ]
  }
 ],
 "metadata": {
  "kernelspec": {
   "display_name": "Python 3",
   "language": "python",
   "name": "python3"
  },
  "language_info": {
   "codemirror_mode": {
    "name": "ipython",
    "version": 3
   },
   "file_extension": ".py",
   "mimetype": "text/x-python",
   "name": "python",
   "nbconvert_exporter": "python",
   "pygments_lexer": "ipython3",
   "version": "3.6.4"
  }
 },
 "nbformat": 4,
 "nbformat_minor": 2
}
